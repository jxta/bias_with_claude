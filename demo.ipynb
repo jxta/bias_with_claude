{
 "cells": [
  {
   "cell_type": "markdown",
   "metadata": {},
   "source": [
    "# Quaternion拡大における素数の偏りの計算\n",
    "\n",
    "青木美穂さんとの共同研究のためのデモノートブック\n",
    "\n",
    "このノートブックでは、Quaternion拡大における素数の偏り計算プログラムの使用方法を示します。"
   ]
  },
  {
   "cell_type": "markdown",
   "metadata": {},
   "source": [
    "## 1. セットアップ\n",
    "\n",
    "まず、必要なライブラリをインポートします。"
   ]
  },
  {
   "cell_type": "code",
   "execution_count": null,
   "metadata": {},
   "outputs": [],
   "source": [
    "import sys\n",
    "import os\n",
    "import json\n",
    "import matplotlib.pyplot as plt\n",
    "import numpy as np\n",
    "from IPython.display import Image, display\n",
    "from collections import Counter\n",
    "\n",
    "# srcディレクトリをパスに追加\n",
    "sys.path.append('./src')\n",
    "\n",
    "print(\"セットアップ完了\")"
   ]
  },
  {
   "cell_type": "markdown",
   "metadata": {},
   "source": [
    "## 2. システム情報の確認\n",
    "\n",
    "SageMathとシステムの情報を確認します。"
   ]
  },
  {
   "cell_type": "code",
   "execution_count": null,
   "metadata": {},
   "outputs": [],
   "source": [
    "# SageMathの確認\n",
    "!sage --version\n",
    "\n",
    "# システム情報\n",
    "!./run_scripts.sh info"
   ]
  },
  {
   "cell_type": "markdown",
   "metadata": {},
   "source": [
    "## 3. テスト実行\n",
    "\n",
    "小規模なテスト（10^5素数まで）を実行します。"
   ]
  },
  {
   "cell_type": "code",
   "execution_count": null,
   "metadata": {},
   "outputs": [],
   "source": [
    "# Case 1のみをテスト実行\n",
    "!sage src/main_runner.py --case 1 --all --max-prime 100000 --processes 2"
   ]
  },
  {
   "cell_type": "markdown",
   "metadata": {},
   "source": [
    "## 4. 結果の確認\n",
    "\n",
    "計算結果のJSONファイルを読み込んで内容を確認します。"
   ]
  },
  {
   "cell_type": "code",
   "execution_count": null,
   "metadata": {},
   "outputs": [],
   "source": [
    "# データファイルを読み込み\n",
    "try:\n",
    "    with open('frobenius_data/case_01_frobenius.json', 'r', encoding='utf-8') as f:\n",
    "        data = json.load(f)\n",
    "    \n",
    "    print(f\"Case {data['case_id']} の結果:\")\n",
    "    print(f\"多項式: {data['polynomial']}\")\n",
    "    print(f\"判別式: {data['discriminant']}\")\n",
    "    print(f\"m_ρ₀: {data['m_rho0']}\")\n",
    "    print(f\"計算した素数の数: {len(data['frobenius_elements'])}\")\n",
    "    \n",
    "    # フロベニウス元の分布を計算\n",
    "    frobenius_count = Counter(data['frobenius_elements'].values())\n",
    "    \n",
    "    print(\"\\nフロベニウス元の分布:\")\n",
    "    group_names = ['1', '-1', 'i', 'j', 'k', '-i', '-j', '-k']\n",
    "    total_primes = len(data['frobenius_elements'])\n",
    "    \n",
    "    for i in range(8):\n",
    "        count = frobenius_count.get(i, 0)\n",
    "        percentage = (count / total_primes) * 100 if total_primes > 0 else 0\n",
    "        print(f\"  g{i} ({group_names[i]}): {count} primes ({percentage:.2f}%)\")\n",
    "        \n",
    "except FileNotFoundError:\n",
    "    print(\"データファイルが見つかりません。まず計算を実行してください。\")"
   ]
  },
  {
   "cell_type": "markdown",
   "metadata": {},
   "source": [
    "## 5. グラフの表示\n",
    "\n",
    "生成された偏りのグラフを表示します。"
   ]
  },
  {
   "cell_type": "code",
   "execution_count": null,
   "metadata": {},
   "outputs": [],
   "source": [
    "# 統合グラフの表示\n",
    "try:\n",
    "    print(\"Case 1の統合グラフ:\")\n",
    "    display(Image('graphs/case_01_bias_graphs.png'))\n",
    "except FileNotFoundError:\n",
    "    print(\"グラフファイルが見つかりません。\")"
   ]
  },
  {
   "cell_type": "code",
   "execution_count": null,
   "metadata": {},
   "outputs": [],
   "source": [
    "# 個別グラフの表示\n",
    "individual_graphs = [\n",
    "    ('graphs/case_01_S1_1.png', 'σ = 1'),\n",
    "    ('graphs/case_01_S2_minus1.png', 'σ = -1'),\n",
    "    ('graphs/case_01_S3_i.png', 'σ = i'),\n",
    "    ('graphs/case_01_S4_j.png', 'σ = j'),\n",
    "    ('graphs/case_01_S5_k.png', 'σ = k')\n",
    "]\n",
    "\n",
    "for filename, title in individual_graphs:\n",
    "    try:\n",
    "        print(f\"\\n{title}の偏り:\")\n",
    "        display(Image(filename))\n",
    "    except FileNotFoundError:\n",
    "        print(f\"{filename} が見つかりません。\")"
   ]
  },
  {
   "cell_type": "markdown",
   "metadata": {},
   "source": [
    "## 6. 複数ケースの実行\n",
    "\n",
    "複数のケースを順次実行します（時間がかかる場合があります）。"
   ]
  },
  {
   "cell_type": "code",
   "execution_count": null,
   "metadata": {},
   "outputs": [],
   "source": [
    "# Case 1-3のみを実行（テスト用）\n",
    "for case_id in [1, 2, 3]:\n",
    "    print(f\"\\n{'='*50}\")\n",
    "    print(f\"Case {case_id} を実行中...\")\n",
    "    print(f\"{'='*50}\")\n",
    "    \n",
    "    !sage src/main_runner.py --case {case_id} --all --max-prime 50000 --processes 2"
   ]
  },
  {
   "cell_type": "markdown",
   "metadata": {},
   "source": [
    "## 7. 結果の比較\n",
    "\n",
    "複数ケースの結果を比較します。"
   ]
  },
  {
   "cell_type": "code",
   "execution_count": null,
   "metadata": {},
   "outputs": [],
   "source": [
    "# 複数ケースのデータを読み込んで比較\n",
    "cases_data = {}\n",
    "\n",
    "for case_id in [1, 2, 3]:\n",
    "    filename = f'frobenius_data/case_{case_id:02d}_frobenius.json'\n",
    "    try:\n",
    "        with open(filename, 'r', encoding='utf-8') as f:\n",
    "            cases_data[case_id] = json.load(f)\n",
    "    except FileNotFoundError:\n",
    "        print(f\"Case {case_id} のデータファイルが見つかりません。\")\n",
    "\n",
    "# 比較表を作成\n",
    "print(\"\\nケース比較表:\")\n",
    "print(\"-\" * 80)\n",
    "print(f\"{'Case':<6} {'m_ρ₀':<6} {'素数数':<8} {'多項式 (最初の20文字)':<40}\")\n",
    "print(\"-\" * 80)\n",
    "\n",
    "for case_id, data in cases_data.items():\n",
    "    m_rho0 = data['m_rho0']\n",
    "    num_primes = len(data['frobenius_elements'])\n",
    "    poly_short = data['polynomial'][:40] + \"...\" if len(data['polynomial']) > 40 else data['polynomial']\n",
    "    print(f\"{case_id:<6} {m_rho0:<6} {num_primes:<8} {poly_short:<40}\")"
   ]
  },
  {
   "cell_type": "markdown",
   "metadata": {},
   "source": [
    "## 8. カスタム分析\n",
    "\n",
    "データを使って独自の分析を行います。"
   ]
  },
  {
   "cell_type": "code",
   "execution_count": null,
   "metadata": {},
   "outputs": [],
   "source": [
    "# フロベニウス元分布の可視化\n",
    "if cases_data:\n",
    "    fig, axes = plt.subplots(1, len(cases_data), figsize=(15, 5))\n",
    "    if len(cases_data) == 1:\n",
    "        axes = [axes]\n",
    "    \n",
    "    group_names = ['1', '-1', 'i', 'j', 'k', '-i', '-j', '-k']\n",
    "    colors = ['red', 'blue', 'green', 'orange', 'purple', 'brown', 'pink', 'gray']\n",
    "    \n",
    "    for idx, (case_id, data) in enumerate(cases_data.items()):\n",
    "        # フロベニウス元の分布を計算\n",
    "        frobenius_count = Counter(data['frobenius_elements'].values())\n",
    "        total_primes = len(data['frobenius_elements'])\n",
    "        \n",
    "        counts = [frobenius_count.get(i, 0) for i in range(8)]\n",
    "        percentages = [(count / total_primes) * 100 for count in counts]\n",
    "        \n",
    "        # 棒グラフを作成\n",
    "        ax = axes[idx]\n",
    "        bars = ax.bar(group_names, percentages, color=colors)\n",
    "        ax.set_title(f'Case {case_id} (m_ρ₀ = {data[\"m_rho0\"]})')\n",
    "        ax.set_ylabel('Percentage (%)')\n",
    "        ax.set_xlabel('Frobenius Element')\n",
    "        \n",
    "        # 値をバーの上に表示\n",
    "        for bar, count in zip(bars, counts):\n",
    "            if count > 0:\n",
    "                ax.text(bar.get_x() + bar.get_width()/2, bar.get_height() + 0.5,\n",
    "                       f'{count}', ha='center', va='bottom', fontsize=8)\n",
    "    \n",
    "    plt.tight_layout()\n",
    "    plt.show()\n",
    "else:\n",
    "    print(\"分析するデータがありません。\")"
   ]
  },
  {
   "cell_type": "markdown",
   "metadata": {},
   "source": [
    "## 9. 理論値との比較\n",
    "\n",
    "実際の計算結果と理論的に期待される分布を比較します。"
   ]
  },
  {
   "cell_type": "code",
   "execution_count": null,
   "metadata": {},
   "outputs": [],
   "source": [
    "# 理論的期待値と実際の分布の比較\n",
    "if cases_data:\n",
    "    print(\"理論値との比較:\")\n",
    "    print(\"=\" * 60)\n",
    "    \n",
    "    # Quaternion群Q8の理論的分布（均等分布の場合）\n",
    "    # g0, g1: 各12.5% (共役類サイズ1)\n",
    "    # g2-g7: 各12.5% (共役類サイズ2だが、-iは+iと同じ共役類なので実際は25%ずつ)\n",
    "    theoretical_percentages = {\n",
    "        0: 12.5,  # g0 (1)\n",
    "        1: 12.5,  # g1 (-1)\n",
    "        2: 25.0,  # g2 (i) - includes g5 (-i)\n",
    "        3: 25.0,  # g3 (j) - includes g6 (-j)\n",
    "        4: 25.0,  # g4 (k) - includes g7 (-k)\n",
    "    }\n",
    "    \n",
    "    for case_id, data in cases_data.items():\n",
    "        print(f\"\\nCase {case_id}:\")\n",
    "        frobenius_count = Counter(data['frobenius_elements'].values())\n",
    "        total_primes = len(data['frobenius_elements'])\n",
    "        \n",
    "        print(f\"  総素数数: {total_primes}\")\n",
    "        print(f\"  {'Element':<10} {'実際(%)':<10} {'理論(%)':<10} {'差':<10}\")\n",
    "        print(f\"  {'-'*40}\")\n",
    "        \n",
    "        for i in [0, 1, 2, 3, 4]:  # 主要な5つの元のみ\n",
    "            actual_count = frobenius_count.get(i, 0)\n",
    "            actual_percentage = (actual_count / total_primes) * 100 if total_primes > 0 else 0\n",
    "            theoretical = theoretical_percentages.get(i, 0)\n",
    "            difference = actual_percentage - theoretical\n",
    "            \n",
    "            group_names = ['1', '-1', 'i', 'j', 'k']\n",
    "            print(f\"  {group_names[i]:<10} {actual_percentage:<10.2f} {theoretical:<10.2f} {difference:<+10.2f}\")"
   ]
  },
  {
   "cell_type": "markdown",
   "metadata": {},
   "source": [
    "## 10. 全ケース実行（オプション）\n",
    "\n",
    "時間に余裕がある場合は、全13ケースを実行できます。\n",
    "\n",
    "**注意**: この処理は非常に時間がかかります（10^6素数で10-15分）。"
   ]
  },
  {
   "cell_type": "code",
   "execution_count": null,
   "metadata": {},
   "outputs": [],
   "source": [
    "# 全ケース実行（コメントアウトしています）\n",
    "# 実行したい場合は以下のコメントを外してください\n",
    "\n",
    "# !./run_scripts.sh all"
   ]
  },
  {
   "cell_type": "markdown",
   "metadata": {},
   "source": [
    "## 11. データのエクスポート\n",
    "\n",
    "計算結果を他の形式でエクスポートします。"
   ]
  },
  {
   "cell_type": "code",
   "execution_count": null,
   "metadata": {},
   "outputs": [],
   "source": [
    "# CSV形式でデータを出力\n",
    "import csv\n",
    "\n",
    "if cases_data:\n",
    "    with open('frobenius_analysis_results.csv', 'w', newline='', encoding='utf-8') as csvfile:\n",
    "        fieldnames = ['case_id', 'm_rho0', 'total_primes', 'g0_count', 'g1_count', 'g2_count', 'g3_count', 'g4_count']\n",
    "        writer = csv.DictWriter(csvfile, fieldnames=fieldnames)\n",
    "        \n",
    "        writer.writeheader()\n",
    "        \n",
    "        for case_id, data in cases_data.items():\n",
    "            frobenius_count = Counter(data['frobenius_elements'].values())\n",
    "            total_primes = len(data['frobenius_elements'])\n",
    "            \n",
    "            row = {\n",
    "                'case_id': case_id,\n",
    "                'm_rho0': data['m_rho0'],\n",
    "                'total_primes': total_primes,\n",
    "                'g0_count': frobenius_count.get(0, 0),\n",
    "                'g1_count': frobenius_count.get(1, 0),\n",
    "                'g2_count': frobenius_count.get(2, 0),\n",
    "                'g3_count': frobenius_count.get(3, 0),\n",
    "                'g4_count': frobenius_count.get(4, 0)\n",
    "            }\n",
    "            writer.writerow(row)\n",
    "    \n",
    "    print(\"分析結果をfrobenius_analysis_results.csvに保存しました。\")\n",
    "else:\n",
    "    print(\"エクスポートするデータがありません。\")"
   ]
  },
  {
   "cell_type": "markdown",
   "metadata": {},
   "source": [
    "## 12. まとめ\n",
    "\n",
    "このノートブックでは以下のことを実行しました：\n",
    "\n",
    "1. **プログラムのセットアップ**: 必要なライブラリの確認とインポート\n",
    "2. **テスト実行**: 小規模なケースでの動作確認\n",
    "3. **結果の分析**: JSONデータの読み込みと内容確認\n",
    "4. **可視化**: 偏りグラフの表示と分布の可視化\n",
    "5. **比較分析**: 複数ケースの結果比較\n",
    "6. **理論値との比較**: 実際の分布と理論的期待値の比較\n",
    "7. **データエクスポート**: CSV形式での結果出力\n",
    "\n",
    "### 次のステップ\n",
    "\n",
    "- より大規模な計算（10^6素数）を実行する\n",
    "- 全13ケースの詳細な比較分析\n",
    "- 偏り係数の理論値と実測値の詳細な検証\n",
    "- 新しいケースの追加と分析\n",
    "\n",
    "### 参考資料\n",
    "\n",
    "- 青木美穂, 小山信也. \"Chebyshev's Bias against Splitting and Principal Primes in Global Fields\", Journal of Number Theory 245, 233-262 (2023).\n",
    "- S. Omar. \"Central values of Artin L-functions for quaternion fields\", ANTS-IV (2000)."
   ]
  }
 ],
 "metadata": {
  "kernelspec": {
   "display_name": "SageMath 9.5",
   "language": "sage",
   "name": "SageMath-9.5"
  },
  "language_info": {
   "codemirror_mode": {
    "name": "ipython",
    "version": 3
   },
   "file_extension": ".py",
   "mimetype": "text/x-python",
   "name": "python",
   "nbconvert_exporter": "python",
   "pygments_lexer": "ipython3",
   "version": "3.9.9"
  }
 },
 "nbformat": 4,
 "nbformat_minor": 4
}
